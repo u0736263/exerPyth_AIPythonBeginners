{
 "cells": [
  {
   "cell_type": "markdown",
   "id": "4bd8fbd2-de5c-47bd-bcd9-cbbe8cdc3104",
   "metadata": {},
   "source": [
    "# Lesson 2 - Repeating tasks with for loops"
   ]
  },
  {
   "cell_type": "markdown",
   "id": "e270cc1f",
   "metadata": {},
   "source": [
    "This lesson will introduce you to a very important concept in programming: the `for` loop. A `for` loop is a special code pattern found in many languages that allows you to repeatedly perform actions on all the items in a list in an automated way. Let's take a look by starting with loading some functions."
   ]
  },
  {
   "cell_type": "code",
   "execution_count": 1,
   "id": "41ef33ad-2b5c-40db-a1ab-9f3c689edd55",
   "metadata": {
    "height": 45
   },
   "outputs": [],
   "source": [
    "from helper_functions import print_llm_response, get_llm_response"
   ]
  },
  {
   "cell_type": "markdown",
   "id": "db2a457b",
   "metadata": {},
   "source": [
    "## From previous lesson\n",
    "\n",
    "At the end of last lesson you saw this list of tasks"
   ]
  },
  {
   "cell_type": "code",
   "execution_count": 2,
   "id": "c2f3989f",
   "metadata": {
    "height": 147
   },
   "outputs": [
    {
     "name": "stdout",
     "output_type": "stream",
     "text": [
      "[\"Compose a brief email to my boss explaining that I will be late for tomorrow's meeting.\", 'Write a birthday poem for Otto, celebrating his 28th birthday.', \"Write a 300-word review of the movie 'The Arrival'.\"]\n"
     ]
    }
   ],
   "source": [
    "#from previous lesson:\n",
    "list_of_tasks = [\n",
    "    \"Compose a brief email to my boss explaining that I will be late for tomorrow's meeting.\",\n",
    "    \"Write a birthday poem for Otto, celebrating his 28th birthday.\",\n",
    "    \"Write a 300-word review of the movie 'The Arrival'.\"\n",
    "]\n",
    "print(list_of_tasks)"
   ]
  },
  {
   "cell_type": "markdown",
   "id": "e5bae794",
   "metadata": {},
   "source": [
    "You passed them one by one to the LLM, repeatedly updated the task variable, then re-executed the function call with this code:"
   ]
  },
  {
   "cell_type": "code",
   "execution_count": 3,
   "id": "9f426b72",
   "metadata": {
    "height": 47
   },
   "outputs": [
    {
     "name": "stdout",
     "output_type": "stream",
     "text": [
      "____________________________________________________________________________________________________\n",
      "Subject: Running Late for Tomorrow's Meeting\n",
      "\n",
      "Hi [Boss's Name],\n",
      "\n",
      "I wanted to let you know that I will be running late for tomorrow's meeting. I apologize for any inconvenience this may cause. I will do my best to join as soon as possible.\n",
      "\n",
      "Thank you for your understanding.\n",
      "\n",
      "Best regards,\n",
      "[Your Name]\n",
      "____________________________________________________________________________________________________\n",
      "\n",
      "\n"
     ]
    }
   ],
   "source": [
    "task = list_of_tasks[0]\n",
    "print_llm_response(task)"
   ]
  },
  {
   "cell_type": "markdown",
   "id": "c46ed944-05e1-4ae0-a238-f172413b1771",
   "metadata": {},
   "source": [
    "If you wanted to complete all the tasks in your list, you would have to re-write the same code multiple times. Alternatively, you can use a `for` loop."
   ]
  },
  {
   "cell_type": "markdown",
   "id": "b40551bc",
   "metadata": {},
   "source": [
    "## Iterating through task lists with AI"
   ]
  },
  {
   "cell_type": "markdown",
   "id": "58985454-e28e-49c8-9fe9-3b9057bafd08",
   "metadata": {},
   "source": [
    "When you run the cell below you will see how the for loop iterates through the elements in `list_of_tasks`."
   ]
  },
  {
   "cell_type": "code",
   "execution_count": 4,
   "id": "0c05dc28-4833-46ae-aad1-3607fab9cd67",
   "metadata": {
    "height": 47
   },
   "outputs": [
    {
     "name": "stdout",
     "output_type": "stream",
     "text": [
      "Compose a brief email to my boss explaining that I will be late for tomorrow's meeting.\n",
      "Write a birthday poem for Otto, celebrating his 28th birthday.\n",
      "Write a 300-word review of the movie 'The Arrival'.\n"
     ]
    }
   ],
   "source": [
    "for task in list_of_tasks:\n",
    "    print(task)"
   ]
  },
  {
   "cell_type": "markdown",
   "id": "e7dedcb5",
   "metadata": {},
   "source": [
    "Here's the code that automatically passes all items in list to `print_llm_response`"
   ]
  },
  {
   "cell_type": "code",
   "execution_count": 5,
   "id": "721136bd",
   "metadata": {
    "height": 47
   },
   "outputs": [
    {
     "name": "stdout",
     "output_type": "stream",
     "text": [
      "____________________________________________________________________________________________________\n",
      "Subject: Running Late for Tomorrow's Meeting\n",
      "\n",
      "Hi [Boss's Name],\n",
      "\n",
      "I wanted to let you know that I will be running a few minutes late for tomorrow's meeting due to an unexpected appointment. I apologize for any inconvenience this may cause and will join the meeting as soon as I can.\n",
      "\n",
      "Thank you for your understanding.\n",
      "\n",
      "Best regards,\n",
      "[Your Name]\n",
      "____________________________________________________________________________________________________\n",
      "\n",
      "\n",
      "____________________________________________________________________________________________________\n",
      "Happy 28th birthday, Otto dear,\n",
      "Another year to hold so near.\n",
      "May joy and laughter fill your day,\n",
      "And blessings come in every way.\n",
      "\n",
      "With each year that passes by,\n",
      "May your dreams reach for the sky.\n",
      "Celebrate this special date,\n",
      "And let happiness be your fate.\n",
      "\n",
      "Cheers to you, Otto, on this day,\n",
      "Wishing you the best in every way.\n",
      "Happy birthday, may it be grand,\n",
      "With love and joy at your command.\n",
      "____________________________________________________________________________________________________\n",
      "\n",
      "\n",
      "____________________________________________________________________________________________________\n",
      "\"The Arrival\" is a captivating science fiction film that delves into the complexities of communication with extraterrestrial beings. The movie follows the story of a linguistics professor, played by Amy Adams, who is recruited by the military to help decipher the language of an alien race that has landed on Earth.\n",
      "\n",
      "One of the standout aspects of the film is its unique take on the traditional alien invasion narrative. Instead of focusing on action-packed sequences and high-stakes battles, \"The Arrival\" explores the power of language and the importance of understanding and empathy in the face of the unknown. The film's slow-burn pacing allows for a deep exploration of the protagonist's emotional journey as she grapples with the weight of her task and the implications of her discoveries.\n",
      "\n",
      "Amy Adams delivers a standout performance, bringing depth and vulnerability to her character as she navigates the challenges of bridging the gap between humanity and the alien visitors. The supporting cast, including Jeremy Renner and Forest Whitaker, also deliver strong performances that help to ground the film in emotional authenticity.\n",
      "\n",
      "Visually, \"The Arrival\" is stunning, with breathtaking cinematography and a hauntingly beautiful score that enhances the film's sense of wonder and mystery. The alien spacecraft and technology are intricately designed, adding to the film's sense of realism and immersion.\n",
      "\n",
      "Overall, \"The Arrival\" is a thought-provoking and visually striking film that offers a fresh take on the science fiction genre. With its emphasis on communication, empathy, and the power of language, the movie delivers a compelling and emotionally resonant viewing experience that will linger in the minds of audiences long after the credits roll.\n",
      "____________________________________________________________________________________________________\n",
      "\n",
      "\n"
     ]
    }
   ],
   "source": [
    "for task in list_of_tasks:\n",
    "    print_llm_response(task)"
   ]
  },
  {
   "cell_type": "markdown",
   "id": "f9a7a927",
   "metadata": {},
   "source": [
    "Let's break this down.\n",
    "\n",
    "The `for task in list` pattern works as follows:\n",
    "\n",
    "- `task` is assigned the first item in the list. In this case, it's the string `\"Compose a brief email to my boss explaining that I will be late for tomorrow's meeting.\"`\n",
    "- The next indented line is called a block and contains an action to carry out on `task`. In this example, the string gets passed to the LLM, and the result appears on the screen.\n",
    "- Then the loop starts again. Now, `task` is assigned the string \"Write a birthday poem for Otto, celebrating his 28th birthday.\" It's the same variable, but with a different value.\n",
    "- `get_llm_response` runs again, and so on.\n",
    "\n",
    "Be sure to call out the `:` at the end of the line. Indentation is crucial; if it’s not correct, you'll get an error."
   ]
  },
  {
   "cell_type": "code",
   "execution_count": 7,
   "id": "8516a3dc",
   "metadata": {
    "height": 47
   },
   "outputs": [
    {
     "name": "stdout",
     "output_type": "stream",
     "text": [
      "____________________________________________________________________________________________________\n",
      "Subject: Running Late for Tomorrow's Meeting\n",
      "\n",
      "Hi [Boss's Name],\n",
      "\n",
      "I wanted to let you know that I will be running a few minutes late for tomorrow's meeting due to an unexpected appointment. I apologize for any inconvenience this may cause and will join the meeting as soon as I can.\n",
      "\n",
      "Thank you for your understanding.\n",
      "\n",
      "Best regards,\n",
      "[Your Name]\n",
      "____________________________________________________________________________________________________\n",
      "\n",
      "\n",
      "____________________________________________________________________________________________________\n",
      "Happy 28th birthday, Otto dear,\n",
      "Another year to hold so near.\n",
      "May joy and laughter fill your day,\n",
      "As you celebrate in every way.\n",
      "\n",
      "With each passing year, you shine so bright,\n",
      "A beacon of love and pure delight.\n",
      "May this special day bring you cheer,\n",
      "And fill your heart with love so dear.\n",
      "\n",
      "So blow out the candles, make a wish,\n",
      "Embrace the joy, savor each dish.\n",
      "Here's to you, Otto, on your special day,\n",
      "May happiness and blessings come your way.\n",
      "____________________________________________________________________________________________________\n",
      "\n",
      "\n",
      "____________________________________________________________________________________________________\n",
      "\"The Arrival\" is a captivating science fiction film that follows the story of a linguist, Louise Banks, played by Amy Adams, who is tasked with communicating with extraterrestrial beings that have arrived on Earth. The movie explores themes of communication, time, and the complexities of human nature in the face of the unknown.\n",
      "\n",
      "Amy Adams delivers a powerful performance as Louise Banks, portraying her character's intelligence, vulnerability, and determination with depth and nuance. The film's visual effects are stunning, creating a sense of awe and wonder as the alien spacecrafts hover ominously over various locations around the world.\n",
      "\n",
      "Director Denis Villeneuve masterfully builds tension throughout the film, keeping viewers on the edge of their seats as the mystery of the aliens' intentions unfolds. The nonlinear narrative adds an extra layer of complexity to the story, challenging audiences to piece together the puzzle alongside the characters.\n",
      "\n",
      "The Arrival's thought-provoking exploration of language and its role in shaping our perceptions of reality sets it apart from other sci-fi films. The film's philosophical undertones invite viewers to contemplate the nature of time, memory, and the choices we make that define who we are.\n",
      "\n",
      "While some may find the pacing slow at times, the deliberate build-up serves to heighten the emotional impact of the film's climax. The Arrival is a visually stunning and intellectually stimulating sci-fi masterpiece that will leave audiences pondering its themes long after the credits roll.\n",
      "\n",
      "In conclusion, \"The Arrival\" is a must-see for fans of thought-provoking science fiction that challenges the mind and stirs the soul. Denis Villeneuve's direction, Amy Adams' performance, and the film's thematic depth combine to create a truly unforgettable cinematic experience.\n",
      "____________________________________________________________________________________________________\n",
      "\n",
      "\n"
     ]
    }
   ],
   "source": [
    "for task in list_of_tasks:\n",
    "    print_llm_response(task)"
   ]
  },
  {
   "cell_type": "markdown",
   "id": "2d8e58be",
   "metadata": {},
   "source": [
    "<p style=\"background-color:#F5C780; padding:15px\"> 🤖 <b>Use the Chatbot</b>: Explain indentation error and help me fix it in this for loop: <br>\n",
    "for task in list_of_tasks:<br>\n",
    "print_llm_response(task)\n",
    "</p>"
   ]
  },
  {
   "cell_type": "markdown",
   "id": "8fdafdba-1a33-4bbd-9061-6950bd8bc488",
   "metadata": {},
   "source": [
    "## Iteratively updating AI prompts using lists"
   ]
  },
  {
   "cell_type": "markdown",
   "id": "09cf3e07",
   "metadata": {},
   "source": [
    "You can even use lists with for loops to iteratively update more complex prompts with the list items. For instance, let's say that you have a list of ice-cream flavors:"
   ]
  },
  {
   "cell_type": "code",
   "execution_count": 8,
   "id": "385f6ec5",
   "metadata": {
    "height": 132
   },
   "outputs": [],
   "source": [
    "#ice cream flavor example\n",
    "ice_cream_flavors = [\n",
    "    \"Vanilla\",\n",
    "    \"Chocolate\",\n",
    "    \"Strawberry\",\n",
    "    \"Mint Chocolate Chip\"\n",
    "]"
   ]
  },
  {
   "cell_type": "markdown",
   "id": "bf5219ea",
   "metadata": {},
   "source": [
    "You can use a for loop to iterate through the flavors and create a captivating description for each of them."
   ]
  },
  {
   "cell_type": "code",
   "execution_count": 9,
   "id": "d732762f",
   "metadata": {
    "height": 164
   },
   "outputs": [
    {
     "name": "stdout",
     "output_type": "stream",
     "text": [
      "____________________________________________________________________________________________________\n",
      "Indulge in the timeless classic of creamy Vanilla ice cream. Its rich and velvety texture will transport your taste buds to a realm of pure delight. Savor the simplicity of this beloved flavor that never goes out of style.\n",
      "____________________________________________________________________________________________________\n",
      "\n",
      "\n",
      "____________________________________________________________________________________________________\n",
      "Indulge in the rich and velvety decadence of our classic Chocolate ice cream. Each creamy spoonful is a symphony of deep, luscious cocoa flavors that will transport your taste buds to pure bliss. Satisfy your cravings with every luxurious bite of our irresistible Chocolate ice cream.\n",
      "____________________________________________________________________________________________________\n",
      "\n",
      "\n",
      "____________________________________________________________________________________________________\n",
      "Indulge in the sweet and refreshing taste of our Strawberry ice cream. Made with ripe, juicy strawberries, every spoonful is bursting with fruity goodness. Treat yourself to a delightful experience that will leave your taste buds craving more.\n",
      "____________________________________________________________________________________________________\n",
      "\n",
      "\n",
      "____________________________________________________________________________________________________\n",
      "Indulge in the refreshing coolness of mint perfectly balanced with rich, decadent chocolate chips. Our Mint Chocolate Chip ice cream is a delightful treat that will tantalize your taste buds with every creamy spoonful.\n",
      "____________________________________________________________________________________________________\n",
      "\n",
      "\n"
     ]
    }
   ],
   "source": [
    "for flavor in ice_cream_flavors:\n",
    "    prompt = f\"\"\"For the ice cream flavor listed below, \n",
    "    provide a captivating description that could be used for promotional purposes.\n",
    "\n",
    "    Flavor: {flavor}\n",
    "\n",
    "    \"\"\"\n",
    "    print_llm_response(prompt)"
   ]
  },
  {
   "cell_type": "markdown",
   "id": "d3f3ead6",
   "metadata": {},
   "source": [
    "Now that you know how to use lists, you can even save the promortional descriptions to another list using `.append()`:"
   ]
  },
  {
   "cell_type": "code",
   "execution_count": 10,
   "id": "db66a442",
   "metadata": {
    "height": 215
   },
   "outputs": [],
   "source": [
    "#saving results to a list\n",
    "promotional_descriptions = []\n",
    "for flavor in ice_cream_flavors:\n",
    "    prompt = f\"\"\"For the ice cream flavor listed below, \n",
    "    provide a captivating description that could be used for promotional purposes.\n",
    "\n",
    "    Flavor: {flavor}\n",
    "\n",
    "    \"\"\"\n",
    "    description = get_llm_response(prompt)\n",
    "    promotional_descriptions.append(description)"
   ]
  },
  {
   "cell_type": "markdown",
   "id": "ebdbcfa5",
   "metadata": {},
   "source": [
    "After you run that code, you should be able to access the promotional descriptions for each of your ice-cream flavors."
   ]
  },
  {
   "cell_type": "code",
   "execution_count": 11,
   "id": "cad94172",
   "metadata": {
    "height": 30
   },
   "outputs": [
    {
     "name": "stdout",
     "output_type": "stream",
     "text": [
      "['Indulge in the timeless classic of creamy Vanilla ice cream. Its rich and smooth flavor will transport your taste buds to a world of pure delight. Taste the simplicity of perfection with every spoonful.', 'Indulge in the rich and velvety decadence of our classic Chocolate ice cream. Each spoonful is a luxurious experience that will satisfy your sweet cravings and leave you wanting more. Treat yourself to the timeless delight of pure chocolate bliss.', 'Indulge in the sweet and refreshing taste of our Strawberry ice cream. Made with ripe, juicy strawberries, this creamy treat is bursting with fruity flavor that will leave your taste buds craving more. Perfect for a sunny day or any time you need a delicious pick-me-up.', 'Indulge in the refreshing coolness of mint perfectly balanced with rich, decadent chocolate chips. Our Mint Chocolate Chip ice cream is a delightful treat that will leave your taste buds tingling for more.']\n"
     ]
    }
   ],
   "source": [
    "print(promotional_descriptions)"
   ]
  },
  {
   "cell_type": "markdown",
   "id": "7135f13d-0f36-4de4-9365-bdadb8e6d611",
   "metadata": {},
   "source": [
    "## Extra practice"
   ]
  },
  {
   "cell_type": "markdown",
   "id": "c01cc56d-92c7-4632-8cf9-aef3f9f9e3c7",
   "metadata": {},
   "source": [
    "Please go through the exercises in the cells below if you want some extra practice for the topics you covered in this lesson."
   ]
  },
  {
   "cell_type": "code",
   "execution_count": 13,
   "id": "f5a19e85-cd80-4e02-a5e1-762284bd27b6",
   "metadata": {
    "height": 198
   },
   "outputs": [
    {
     "name": "stdout",
     "output_type": "stream",
     "text": [
      "['Chocolate', 'Mint Chocolate Chip']\n",
      "['Chocolate', 'Mint Chocolate Chip']\n"
     ]
    }
   ],
   "source": [
    "# Fix the following code.\n",
    "# It should print the flavors in\n",
    "# ice_cream_flavors one by one.\n",
    "\n",
    "ice_cream_flavors = [\"Chocolate\", \"Mint Chocolate Chip\"]\n",
    "\n",
    "### EDIT THE FOLLOWING CODE ###\n",
    "for flavor in ice_cream_flavors:\n",
    "    print(ice_cream_flavors)\n",
    "### --------------- ###"
   ]
  },
  {
   "cell_type": "code",
   "execution_count": 17,
   "id": "7b7480c4-ae67-42bd-8cac-189f1f087053",
   "metadata": {
    "height": 232
   },
   "outputs": [
    {
     "name": "stdout",
     "output_type": "stream",
     "text": [
      "____________________________________________________________________________________________________\n",
      "Vanilla in Spanish is \"Vainilla.\"\n",
      "____________________________________________________________________________________________________\n",
      "\n",
      "\n",
      "____________________________________________________________________________________________________\n",
      "Strawberry in Spanish is \"Fresa.\"\n",
      "____________________________________________________________________________________________________\n",
      "\n",
      "\n"
     ]
    }
   ],
   "source": [
    "# Translate the flavors in ice_cream_flavors to Spanish\n",
    "ice_cream_flavors = [\"Vanilla\", \"Strawberry\"]\n",
    "\n",
    "for flavor in ice_cream_flavors:\n",
    "    ### EDIT THE FOLLOWING CODE ###\n",
    "    \n",
    "    #Hint: you only need to add one or two sentences to the prompt\n",
    "    prompt = f\"\"\"For the ice cream flavor listed below, \n",
    "    translate {flavor} in Spanish\n",
    "    \"\"\"\n",
    "    ### --------------- ###\n",
    "    print_llm_response(prompt)"
   ]
  },
  {
   "cell_type": "code",
   "execution_count": null,
   "id": "6394bb74-a839-4732-8dbf-1b96bd8e97f9",
   "metadata": {
    "height": 317
   },
   "outputs": [
    {
     "name": "stdout",
     "output_type": "stream",
     "text": [
      "['Apple']\n"
     ]
    }
   ],
   "source": [
    "# Write code to get a list with \n",
    "# words without typos\n",
    "\n",
    "words_with_typos = [\"Aple\", \"Wether\", \"Newpaper\"]\n",
    "words_without_typos = []\n",
    "\n",
    "for word in words_with_typos:\n",
    "    prompt = f\"\"\"Fix the spelling mistake in the following word: {word}\n",
    "    Provide only the word.\n",
    "    \"\"\"\n",
    "    correct_word = get_llm_response(prompt)\n",
    "    ### WRITE CODE HERE  ###\n",
    "    #Hint: Append the correct_word to the words_without_typos list \n",
    "    ### --------------- ###\n",
    "\n",
    "    words_without_typos.append(correct_word)\n",
    "    print(words_without_typos)"
   ]
  }
 ],
 "metadata": {
  "kernelspec": {
   "display_name": "Python 3 (ipykernel)",
   "language": "python",
   "name": "python3"
  },
  "language_info": {
   "codemirror_mode": {
    "name": "ipython",
    "version": 3
   },
   "file_extension": ".py",
   "mimetype": "text/x-python",
   "name": "python",
   "nbconvert_exporter": "python",
   "pygments_lexer": "ipython3",
   "version": "3.9.19"
  }
 },
 "nbformat": 4,
 "nbformat_minor": 5
}
