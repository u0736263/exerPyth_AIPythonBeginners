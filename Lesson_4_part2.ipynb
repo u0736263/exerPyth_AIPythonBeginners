{
 "cells": [
  {
   "cell_type": "markdown",
   "id": "f6bf49f7-21f0-47bc-9a3e-7fd325a0b9bf",
   "metadata": {},
   "source": [
    "# Lesson 4 - Customizing recipes with lists, dictionaries and AI"
   ]
  },
  {
   "cell_type": "markdown",
   "id": "a9f73957",
   "metadata": {},
   "source": [
    "In the previous lesson, you went through how to use dictionaries to complete tasks by priority. In this lesson, you will see how you can use dictionaries to update LLM prompts and create food recipies that match your friends preferences, restrictions and cooking experience. "
   ]
  },
  {
   "cell_type": "code",
   "execution_count": 1,
   "id": "0669df5d-5013-466b-90c8-679364ff80a1",
   "metadata": {
    "height": 45
   },
   "outputs": [],
   "source": [
    "from helper_functions import print_llm_response, get_llm_response"
   ]
  },
  {
   "cell_type": "markdown",
   "id": "f2ddd461",
   "metadata": {},
   "source": [
    "## Food preference dictionaries\n",
    "\n",
    "Dictionaries are a useful way to organize multiple variables associated with a single entity, like one of your friends. In the next dictionary, you store the food preferences and cooking experience for Tommy."
   ]
  },
  {
   "cell_type": "code",
   "execution_count": 2,
   "id": "5ccb6d62",
   "metadata": {
    "height": 130
   },
   "outputs": [],
   "source": [
    "food_preferences_tommy = {\n",
    "        \"dietary_restrictions\": \"vegetarian\",\n",
    "        \"favorite_ingredients\": [\"tofu\", \"olives\"],\n",
    "        \"experience_level\": \"intermediate\",\n",
    "        \"maximum_spice_level\": 6\n",
    "}"
   ]
  },
  {
   "cell_type": "markdown",
   "id": "b27a261d",
   "metadata": {},
   "source": [
    "As you can see there, that dictionary has four keys, wich you can access using `\".keys()\"`:"
   ]
  },
  {
   "cell_type": "code",
   "execution_count": 3,
   "id": "8849cd3c",
   "metadata": {
    "height": 30
   },
   "outputs": [
    {
     "name": "stdout",
     "output_type": "stream",
     "text": [
      "dict_keys(['dietary_restrictions', 'favorite_ingredients', 'experience_level', 'maximum_spice_level'])\n"
     ]
    }
   ],
   "source": [
    "print(food_preferences_tommy.keys())"
   ]
  },
  {
   "cell_type": "markdown",
   "id": "d73a2a44",
   "metadata": {},
   "source": [
    "And it has values with different data types: lists, strings and integers. "
   ]
  },
  {
   "cell_type": "code",
   "execution_count": 4,
   "id": "31f98465",
   "metadata": {
    "height": 30
   },
   "outputs": [
    {
     "name": "stdout",
     "output_type": "stream",
     "text": [
      "dict_values(['vegetarian', ['tofu', 'olives'], 'intermediate', 6])\n"
     ]
    }
   ],
   "source": [
    "print(food_preferences_tommy.values())"
   ]
  },
  {
   "cell_type": "markdown",
   "id": "4d786ed3",
   "metadata": {},
   "source": [
    "Let's see how you can use these in a prompt to create recipes that take into account your friends dietary preferences."
   ]
  },
  {
   "cell_type": "markdown",
   "id": "5241f8b9",
   "metadata": {},
   "source": [
    "## Using keys and values within AI prompt"
   ]
  },
  {
   "cell_type": "markdown",
   "id": "6a8f30dc",
   "metadata": {},
   "source": [
    "So here's a prompt that uses all the information in the dictionary to create a customized recipe"
   ]
  },
  {
   "cell_type": "code",
   "execution_count": 5,
   "id": "463a6d2a",
   "metadata": {
    "height": 215
   },
   "outputs": [],
   "source": [
    "prompt = f\"\"\"Please suggest a recipe that tries to include \n",
    "the following ingredients: \n",
    "{food_preferences_tommy[\"favorite_ingredients\"]}.\n",
    "The recipe should adhere to the following dietary restrictions:\n",
    "{food_preferences_tommy[\"dietary_restrictions\"]}.\n",
    "The difficulty of the recipe should be: \n",
    "{food_preferences_tommy[\"experience_level\"]}\n",
    "The maximum spice level on a scale of 10 should be: \n",
    "{food_preferences_tommy[\"maximum_spice_level\"]} \n",
    "Provide a two sentence description.\n",
    "\"\"\""
   ]
  },
  {
   "cell_type": "markdown",
   "id": "b24af997",
   "metadata": {},
   "source": [
    "Run the cell below to print the prompt."
   ]
  },
  {
   "cell_type": "code",
   "execution_count": 6,
   "id": "6cceec03-639e-460c-a0d6-b34adb2cd28d",
   "metadata": {
    "height": 30
   },
   "outputs": [
    {
     "name": "stdout",
     "output_type": "stream",
     "text": [
      "Please suggest a recipe that tries to include \n",
      "the following ingredients: \n",
      "['tofu', 'olives'].\n",
      "The recipe should adhere to the following dietary restrictions:\n",
      "vegetarian.\n",
      "The difficulty of the recipe should be: \n",
      "intermediate\n",
      "The maximum spice level on a scale of 10 should be: \n",
      "6 \n",
      "Provide a two sentence description.\n",
      "\n"
     ]
    }
   ],
   "source": [
    "print(prompt)"
   ]
  },
  {
   "cell_type": "markdown",
   "id": "10b37203",
   "metadata": {},
   "source": [
    "Now, you can use that prompt with an LLM to suggest a recipe to fit Tommy's preferences:"
   ]
  },
  {
   "cell_type": "code",
   "execution_count": 7,
   "id": "14850b74",
   "metadata": {
    "height": 30
   },
   "outputs": [
    {
     "name": "stdout",
     "output_type": "stream",
     "text": [
      "____________________________________________________________________________________________________\n",
      "Try making a Mediterranean Tofu and Olive Stir-Fry. Sauté cubed tofu with bell peppers, garlic, and a mix of green and black olives, then season with oregano and a splash of lemon juice for a flavorful, vegetarian dish that balances savory and tangy notes.\n",
      "____________________________________________________________________________________________________\n",
      "\n",
      "\n"
     ]
    }
   ],
   "source": [
    "print_llm_response(prompt)"
   ]
  },
  {
   "cell_type": "markdown",
   "id": "e00bb0c1",
   "metadata": {},
   "source": [
    "The model followed the instructions. Tommy will be delighted!"
   ]
  },
  {
   "cell_type": "markdown",
   "id": "86e7ba47",
   "metadata": {},
   "source": [
    "## Refining the prompt with available ingredients"
   ]
  },
  {
   "cell_type": "markdown",
   "id": "e813a9b6",
   "metadata": {},
   "source": [
    "You can go a step further and consider the available ingredients at your house. To do so, let's use the following lists:"
   ]
  },
  {
   "cell_type": "code",
   "execution_count": 8,
   "id": "72256217-4474-4c48-a87d-36b444c25ea6",
   "metadata": {
    "height": 45
   },
   "outputs": [],
   "source": [
    "available_spices = [\"cumin\", \"turmeric\", \"oregano\", \"paprika\"]"
   ]
  },
  {
   "cell_type": "markdown",
   "id": "b2f46ab1",
   "metadata": {},
   "source": [
    "You can add these directly to the prompt so that the LLM take those into consideration"
   ]
  },
  {
   "cell_type": "code",
   "execution_count": 13,
   "id": "3b73cd00-bf5e-4865-9a05-07e7f68b1296",
   "metadata": {
    "height": 283
   },
   "outputs": [
    {
     "name": "stdout",
     "output_type": "stream",
     "text": [
      "Please suggest a recipe that tries to include \n",
      "the following ingredients: \n",
      "['tofu', 'olives'].\n",
      "The recipe should adhere to the following dietary restrictions:\n",
      "vegetarian.\n",
      "The difficulty of the recipe should be: \n",
      "intermediate\n",
      "The maximum spice level on a scale of 10 should be: \n",
      "6 \n",
      "Provide a step by step description.\n",
      "\n",
      "The recipe should not include spices outside of this list:\n",
      "Spices: ['cumin', 'turmeric', 'oregano', 'paprika']\n",
      "\n"
     ]
    }
   ],
   "source": [
    "prompt = f\"\"\"Please suggest a recipe that tries to include \n",
    "the following ingredients: \n",
    "{food_preferences_tommy[\"favorite_ingredients\"]}.\n",
    "The recipe should adhere to the following dietary restrictions:\n",
    "{food_preferences_tommy[\"dietary_restrictions\"]}.\n",
    "The difficulty of the recipe should be: \n",
    "{food_preferences_tommy[\"experience_level\"]}\n",
    "The maximum spice level on a scale of 10 should be: \n",
    "{food_preferences_tommy[\"maximum_spice_level\"]} \n",
    "Provide a step by step description.\n",
    "\n",
    "The recipe should not include spices outside of this list:\n",
    "Spices: {available_spices}\n",
    "\"\"\"\n",
    "print(prompt)"
   ]
  },
  {
   "cell_type": "markdown",
   "id": "4a78b961",
   "metadata": {},
   "source": [
    "Now, get the LLM response to that prompt and assign it to a variable:"
   ]
  },
  {
   "cell_type": "code",
   "execution_count": 15,
   "id": "bc9f9acf",
   "metadata": {
    "height": 30
   },
   "outputs": [],
   "source": [
    "recipe = get_llm_response(prompt)"
   ]
  },
  {
   "cell_type": "markdown",
   "id": "c87c1079",
   "metadata": {},
   "source": [
    "And print the recipe that considers Tommy's restrictions as well as the available ingredients at your house."
   ]
  },
  {
   "cell_type": "code",
   "execution_count": 16,
   "id": "d211dac7",
   "metadata": {
    "height": 30
   },
   "outputs": [
    {
     "name": "stdout",
     "output_type": "stream",
     "text": [
      "**Tofu and Olive Stir-Fry**\n",
      "\n",
      "**Ingredients:**\n",
      "- 1 block firm tofu, drained and pressed\n",
      "- 1 cup green olives, pitted and sliced\n",
      "- 2 tablespoons olive oil\n",
      "- 1 bell pepper, sliced (any color)\n",
      "- 1 medium onion, sliced\n",
      "- 2 cloves garlic, minced\n",
      "- 1 teaspoon cumin\n",
      "- 1 teaspoon turmeric\n",
      "- 1 teaspoon oregano\n",
      "- 1 teaspoon paprika\n",
      "- Salt and pepper to taste\n",
      "- Fresh parsley for garnish (optional)\n",
      "\n",
      "**Instructions:**\n",
      "\n",
      "1. **Prepare the Tofu:**\n",
      "   - Cut the pressed tofu into bite-sized cubes.\n",
      "   - In a bowl, toss the tofu cubes with salt, pepper, cumin, turmeric, oregano, and paprika. Let it marinate for about 15 minutes.\n",
      "\n",
      "2. **Cook the Tofu:**\n",
      "   - Heat 1 tablespoon of olive oil in a large skillet over medium-high heat.\n",
      "   - Add the marinated tofu cubes and cook until golden brown on all sides, about 8-10 minutes. Remove the tofu from the skillet and set aside.\n",
      "\n",
      "3. **Sauté Vegetables:**\n",
      "   - In the same skillet, add the remaining tablespoon of olive oil.\n",
      "   - Add the sliced onion and bell pepper. Sauté for about 5 minutes until they start to soften.\n",
      "   - Add the minced garlic and cook for an additional 1-2 minutes until fragrant.\n",
      "\n",
      "4. **Combine Ingredients:**\n",
      "   - Return the cooked tofu to the skillet with the vegetables.\n",
      "   - Add the sliced olives and stir to combine. Cook for another 3-4 minutes to heat through.\n",
      "\n",
      "5. **Adjust Seasoning:**\n",
      "   - Taste and adjust seasoning with more salt, pepper, or spices if desired.\n",
      "\n",
      "6. **Serve:**\n",
      "   - Garnish with fresh parsley if using. Serve hot over rice, quinoa, or enjoy as is.\n",
      "\n",
      "Enjoy your flavorful tofu and olive stir-fry!\n"
     ]
    }
   ],
   "source": [
    "print(recipe)"
   ]
  },
  {
   "cell_type": "markdown",
   "id": "8dd1eebb",
   "metadata": {},
   "source": [
    "Try changing the prompt to give you step-by-step instructions and try adding a key-value pair to the dictionary that indicates favorite cuisine."
   ]
  },
  {
   "cell_type": "markdown",
   "id": "d21d016e-e278-47f9-a3da-b031eb6905e9",
   "metadata": {},
   "source": [
    "## Looking ahead"
   ]
  },
  {
   "cell_type": "markdown",
   "id": "71e7f4a4-efbe-4bbb-a6b4-60305a2e5427",
   "metadata": {},
   "source": [
    "Let's take another look at`food_preferences_tommy[\"dietary_restrictions\"]` "
   ]
  },
  {
   "cell_type": "code",
   "execution_count": 17,
   "id": "91bb95c7-1940-452d-a120-149bf8db61c7",
   "metadata": {
    "height": 45
   },
   "outputs": [
    {
     "name": "stdout",
     "output_type": "stream",
     "text": [
      "vegetarian\n"
     ]
    }
   ],
   "source": [
    "print(food_preferences_tommy[\"dietary_restrictions\"])"
   ]
  },
  {
   "cell_type": "markdown",
   "id": "b5f5fe5e-feae-4a8a-9e11-9cfb99958df2",
   "metadata": {},
   "source": [
    "Here is a different way you could tell Python that Tommy is vegetarian:"
   ]
  },
  {
   "cell_type": "code",
   "execution_count": 18,
   "id": "c447a119-a75b-4f83-87e1-81a6f4e34c13",
   "metadata": {
    "height": 45
   },
   "outputs": [],
   "source": [
    "food_preferences_tommy[\"is_vegetarian\"] = True"
   ]
  },
  {
   "cell_type": "code",
   "execution_count": 19,
   "id": "bfea6233-99af-43b8-b26f-6ba0696f34c6",
   "metadata": {
    "height": 30
   },
   "outputs": [
    {
     "name": "stdout",
     "output_type": "stream",
     "text": [
      "{'dietary_restrictions': 'vegetarian', 'favorite_ingredients': ['tofu', 'olives'], 'experience_level': 'intermediate', 'maximum_spice_level': 6, 'is_vegetarian': True}\n"
     ]
    }
   ],
   "source": [
    "print(food_preferences_tommy)"
   ]
  },
  {
   "cell_type": "markdown",
   "id": "3e43d1db-4ce2-4444-9c47-d0ae02370976",
   "metadata": {},
   "source": [
    "Go to next video to see what `True` and `False` are and how they work in Python"
   ]
  },
  {
   "cell_type": "markdown",
   "id": "cc7e65ef-1983-43d0-93b5-ce29a2c9f387",
   "metadata": {},
   "source": [
    "## Extra practice"
   ]
  },
  {
   "cell_type": "markdown",
   "id": "7389bce5-8c0d-41cf-b347-01c741078ef0",
   "metadata": {},
   "source": [
    "Please go through the exercises in the cells below if you want some extra practice for the topics you covered in this lesson."
   ]
  },
  {
   "cell_type": "code",
   "execution_count": 21,
   "id": "83969e6c-e89b-4061-8a9b-69764225dccd",
   "metadata": {
    "height": 249
   },
   "outputs": [
    {
     "name": "stdout",
     "output_type": "stream",
     "text": [
      "{'dietary_restrictions': ['chicken, onions'], 'favorite_ingredients': ['mushroom, asparagus'], 'experience_level': 'Easy', 'maximum_spice_level': 0}\n"
     ]
    }
   ],
   "source": [
    "# Update the following dictionary \n",
    "# with your own preferences \n",
    "\n",
    "### EDIT THE FOLLOWING CODE ###\n",
    "my_food_preferences = {\n",
    "        \"dietary_restrictions\": [\"chicken, onions\"], #List with dietary restrictions\n",
    "        \"favorite_ingredients\": [\"mushroom, asparagus\"], #List with top three favorite ingredients\n",
    "        \"experience_level\": \"Easy\", #Experience level\n",
    "        \"maximum_spice_level\": 0 #Spice level in a scale from 1 to 10\n",
    "}\n",
    "### --------------- ###\n",
    "\n",
    "print(my_food_preferences)"
   ]
  },
  {
   "cell_type": "code",
   "execution_count": null,
   "id": "e22eb004-6a9c-4274-9ae3-c9ee106689fb",
   "metadata": {
    "height": 368
   },
   "outputs": [],
   "source": [
    "# Modify the following prompt, \n",
    "# without adding more than two sentences,\n",
    "# so that the provided recipe includes detailed instructions.\n",
    "\n",
    "### EDIT THE FOLLOWING CODE ###\n",
    "#Hint: look at the last sentence in this prompt\n",
    "prompt = f\"\"\"Please suggest a recipe that tries to include \n",
    "the following ingredients: \n",
    "{food_preferences_tommy[\"favorite_ingredients\"]}.\n",
    "The recipe should adhere to the following dietary restrictions:\n",
    "{food_preferences_tommy[\"dietary_restrictions\"]}.\n",
    "The difficulty of the recipe should be: \n",
    "{food_preferences_tommy[\"experience_level\"]}\n",
    "The maximum spice level on a scale of 10 should be: \n",
    "{food_preferences_tommy[\"maximum_spice_level\"]} \n",
    "Provide a two sentence detailed instructions.\n",
    "\"\"\"\n",
    "### --------------- ###\n",
    "\n",
    "print_llm_response(prompt)"
   ]
  }
 ],
 "metadata": {
  "kernelspec": {
   "display_name": "Python 3 (ipykernel)",
   "language": "python",
   "name": "python3"
  },
  "language_info": {
   "codemirror_mode": {
    "name": "ipython",
    "version": 3
   },
   "file_extension": ".py",
   "mimetype": "text/x-python",
   "name": "python",
   "nbconvert_exporter": "python",
   "pygments_lexer": "ipython3",
   "version": "3.9.19"
  }
 },
 "nbformat": 4,
 "nbformat_minor": 5
}
