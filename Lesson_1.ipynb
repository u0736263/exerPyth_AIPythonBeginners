{
 "cells": [
  {
   "cell_type": "markdown",
   "id": "4bd8fbd2-de5c-47bd-bcd9-cbbe8cdc3104",
   "metadata": {},
   "source": [
    "# Lesson 1 - Completing a task list with AI"
   ]
  },
  {
   "cell_type": "markdown",
   "id": "f2ba7ff3",
   "metadata": {},
   "source": [
    "In this course, you'll learn how to automate tasks using Python. This means you'll be able to have Python **do repetitive things** and **make decisions** for you. One important skill you'll develop is the ability to store multiple pieces of data together. This lesson will introduce you to **lists**, a powerful tool for this purpose.\n",
    "\n",
    "To get started, let's load some functions that you'll use in this lesson."
   ]
  },
  {
   "cell_type": "code",
   "execution_count": 1,
   "id": "41ef33ad-2b5c-40db-a1ab-9f3c689edd55",
   "metadata": {
    "height": 45
   },
   "outputs": [],
   "source": [
    "from helper_functions import print_llm_response, get_llm_response"
   ]
  },
  {
   "cell_type": "markdown",
   "id": "f156dba3",
   "metadata": {},
   "source": [
    "### What are lists?\n",
    "In the last course, you learned about variables. Each variable holds a single piece of data.\n",
    "\n",
    "For example:"
   ]
  },
  {
   "cell_type": "code",
   "execution_count": 4,
   "id": "73758fc8",
   "metadata": {
    "height": 30
   },
   "outputs": [],
   "source": [
    "name = \"Daniel\""
   ]
  },
  {
   "cell_type": "markdown",
   "id": "b8e315cf",
   "metadata": {},
   "source": [
    "Let's say I want to write a poem for all my friends... all three of them. Run the cell below, then change the name above to Isabel and rerun the cell."
   ]
  },
  {
   "cell_type": "code",
   "execution_count": 5,
   "id": "30a8e543",
   "metadata": {
    "height": 113
   },
   "outputs": [
    {
     "name": "stdout",
     "output_type": "stream",
     "text": [
      "____________________________________________________________________________________________________\n",
      "Dancing through life with joy and grace,\n",
      "A friend like you, a true embrace.\n",
      "Never-ending laughter in your space,\n",
      "I wish you happiness in every place.\n",
      "____________________________________________________________________________________________________\n",
      "\n",
      "\n"
     ]
    }
   ],
   "source": [
    "prompt = f\"\"\"\n",
    "Write a four line birthday poem for my friend {name}. \n",
    "The poem should be inspired by the first letter of my friend's name.\n",
    "\"\"\"\n",
    "print_llm_response(prompt)"
   ]
  },
  {
   "cell_type": "markdown",
   "id": "cb48382c",
   "metadata": {},
   "source": [
    "Changing the value held by a variable requires lots of updates to the variables. A better way to handle this is by using a list. \n",
    "\n",
    "Lists are a data type in Python that can hold multiple pieces of data. This reduces the need for repetitive variable assignments since you can include all the pieces of data together."
   ]
  },
  {
   "cell_type": "markdown",
   "id": "5d36fc84-7238-478c-a70b-8b4988dae5b9",
   "metadata": {},
   "source": [
    "## Creating  a list\n",
    "\n",
    "Below, you will create a list that holds the names `\"Tommy\"`, `\"Isabel\"` and `\"Daniel\"`."
   ]
  },
  {
   "cell_type": "code",
   "execution_count": 6,
   "id": "b2cdf52d-f8be-4eb9-870b-19b0ed83fc25",
   "metadata": {
    "height": 45
   },
   "outputs": [],
   "source": [
    "friends_list = [\"Tommy\", \"Isabel\", \"Daniel\"]"
   ]
  },
  {
   "cell_type": "code",
   "execution_count": 7,
   "id": "343fb2a6-3bfc-44b8-9dd3-a3d8e177906a",
   "metadata": {
    "height": 30
   },
   "outputs": [
    {
     "name": "stdout",
     "output_type": "stream",
     "text": [
      "['Tommy', 'Isabel', 'Daniel']\n"
     ]
    }
   ],
   "source": [
    "print(friends_list)"
   ]
  },
  {
   "cell_type": "markdown",
   "id": "10fe72bf",
   "metadata": {},
   "source": [
    "`friends_list` is a single variable of type `list` that holds multiple values."
   ]
  },
  {
   "cell_type": "code",
   "execution_count": 8,
   "id": "bfae06d5",
   "metadata": {
    "height": 30
   },
   "outputs": [
    {
     "data": {
      "text/plain": [
       "list"
      ]
     },
     "execution_count": 8,
     "metadata": {},
     "output_type": "execute_result"
    }
   ],
   "source": [
    "type(friends_list)"
   ]
  },
  {
   "cell_type": "markdown",
   "id": "7df5e778",
   "metadata": {},
   "source": [
    "You can check how many values are stored in the list by using `len()`:"
   ]
  },
  {
   "cell_type": "code",
   "execution_count": 9,
   "id": "c675bd49",
   "metadata": {
    "height": 30
   },
   "outputs": [
    {
     "data": {
      "text/plain": [
       "3"
      ]
     },
     "execution_count": 9,
     "metadata": {},
     "output_type": "execute_result"
    }
   ],
   "source": [
    "len(friends_list)"
   ]
  },
  {
   "cell_type": "markdown",
   "id": "54e11255",
   "metadata": {},
   "source": [
    "So this list has three elements."
   ]
  },
  {
   "cell_type": "markdown",
   "id": "5ae55d3c",
   "metadata": {},
   "source": [
    "You can use lists as you used variables before within LLM prompts. Below, you are including the `friends_list` in the prompt to write four-line birthday poems for `'Tommy'`, `'Isabel'` and `'Daniel'`."
   ]
  },
  {
   "cell_type": "code",
   "execution_count": 10,
   "id": "e0b59524",
   "metadata": {
    "height": 113
   },
   "outputs": [
    {
     "name": "stdout",
     "output_type": "stream",
     "text": [
      "\n",
      "Write a set of four line birthday poems for my friends ['Tommy', 'Isabel', 'Daniel']. \n",
      "The poems should be insipred by the first letter of each friend's name.\n",
      "\n"
     ]
    }
   ],
   "source": [
    "prompt = f\"\"\"\n",
    "Write a set of four line birthday poems for my friends {friends_list}. \n",
    "The poems should be insipred by the first letter of each friend's name.\n",
    "\"\"\"\n",
    "print(prompt)"
   ]
  },
  {
   "cell_type": "markdown",
   "id": "2cf56776",
   "metadata": {},
   "source": [
    "Now, you can use that prompt with the LLM:"
   ]
  },
  {
   "cell_type": "code",
   "execution_count": 11,
   "id": "ac8ed4b1",
   "metadata": {
    "height": 30
   },
   "outputs": [
    {
     "name": "stdout",
     "output_type": "stream",
     "text": [
      "____________________________________________________________________________________________________\n",
      "1. Tommy, a friend so true and kind,\n",
      "On your birthday, joy and laughter you'll find.\n",
      "May your day be filled with love and cheer,\n",
      "Wishing you a fantastic year!\n",
      "\n",
      "2. Isabel, with a heart so pure,\n",
      "On your special day, may happiness endure.\n",
      "May your dreams take flight and soar,\n",
      "Celebrating you, we all adore!\n",
      "\n",
      "3. Daniel, a friend so dear,\n",
      "On your birthday, let's raise a cheer.\n",
      "May your day be filled with delight,\n",
      "Wishing you happiness, morning to night!\n",
      "____________________________________________________________________________________________________\n",
      "\n",
      "\n"
     ]
    }
   ],
   "source": [
    "print_llm_response(prompt)"
   ]
  },
  {
   "cell_type": "markdown",
   "id": "2d0a44bf",
   "metadata": {},
   "source": [
    "## Accessing individual elements of a list"
   ]
  },
  {
   "cell_type": "markdown",
   "id": "d7de8ba8",
   "metadata": {},
   "source": [
    "You can access individual elements from a list. Let's ask the chatbot how to do that."
   ]
  },
  {
   "cell_type": "markdown",
   "id": "82fe4e72",
   "metadata": {},
   "source": [
    "<p style=\"background-color:#F5C780; padding:15px\"> 🤖 <b>Use the Chatbot</b>: How do I access a specific element of this list:\n",
    "friends_list = [\"Tommy\", \"Isabel\", \"Daniel\"]\n",
    "</p>"
   ]
  },
  {
   "cell_type": "markdown",
   "id": "05ad7e82",
   "metadata": {},
   "source": [
    "For instance, to access the first element, you would use the following code:"
   ]
  },
  {
   "cell_type": "code",
   "execution_count": 12,
   "id": "db3b8120",
   "metadata": {
    "height": 47
   },
   "outputs": [
    {
     "name": "stdout",
     "output_type": "stream",
     "text": [
      "Tommy\n"
     ]
    }
   ],
   "source": [
    "first_friend = friends_list[0]\n",
    "print(first_friend)  # Output: Tommy"
   ]
  },
  {
   "cell_type": "markdown",
   "id": "e4630495-74c9-4d0b-906e-9655b9087f81",
   "metadata": {},
   "source": [
    "To access the second element, you would use the following code:"
   ]
  },
  {
   "cell_type": "code",
   "execution_count": 13,
   "id": "ef6ddceb",
   "metadata": {
    "height": 30
   },
   "outputs": [
    {
     "name": "stdout",
     "output_type": "stream",
     "text": [
      "Isabel\n"
     ]
    }
   ],
   "source": [
    "print(friends_list[1]) # Output: Isabel"
   ]
  },
  {
   "cell_type": "markdown",
   "id": "9ba91b9a-4bd7-4cc7-b9f1-87fa15e55dfc",
   "metadata": {},
   "source": [
    "Note that for accessing the first element you used the index 0, and for accessing the second element you used 1."
   ]
  },
  {
   "cell_type": "markdown",
   "id": "59eed6c3",
   "metadata": {},
   "source": [
    "So, if you do the following, you'll get an error."
   ]
  },
  {
   "cell_type": "code",
   "execution_count": 14,
   "id": "c19112dc",
   "metadata": {
    "height": 30
   },
   "outputs": [
    {
     "ename": "IndexError",
     "evalue": "list index out of range",
     "output_type": "error",
     "traceback": [
      "\u001b[0;31m---------------------------------------------------------------------------\u001b[0m",
      "\u001b[0;31mIndexError\u001b[0m                                Traceback (most recent call last)",
      "Cell \u001b[0;32mIn[14], line 1\u001b[0m\n\u001b[0;32m----> 1\u001b[0m \u001b[38;5;28mprint\u001b[39m(\u001b[43mfriends_list\u001b[49m\u001b[43m[\u001b[49m\u001b[38;5;241;43m3\u001b[39;49m\u001b[43m]\u001b[49m) \u001b[38;5;66;03m# Gives an error\u001b[39;00m\n",
      "\u001b[0;31mIndexError\u001b[0m: list index out of range"
     ]
    }
   ],
   "source": [
    "print(friends_list[3]) # Gives an error"
   ]
  },
  {
   "cell_type": "markdown",
   "id": "73cabe3b",
   "metadata": {},
   "source": [
    "But, if you run the following code, you will be able to access the last element from that list. "
   ]
  },
  {
   "cell_type": "code",
   "execution_count": 15,
   "id": "408eff97",
   "metadata": {
    "height": 30
   },
   "outputs": [
    {
     "name": "stdout",
     "output_type": "stream",
     "text": [
      "Daniel\n"
     ]
    }
   ],
   "source": [
    "print(friends_list[2])"
   ]
  },
  {
   "cell_type": "markdown",
   "id": "88cef078",
   "metadata": {},
   "source": [
    "## Adding another element to the list"
   ]
  },
  {
   "cell_type": "code",
   "execution_count": 16,
   "id": "77705088-bfb4-40ed-8cc8-76b17b8f1357",
   "metadata": {
    "height": 30
   },
   "outputs": [
    {
     "name": "stdout",
     "output_type": "stream",
     "text": [
      "['Tommy', 'Isabel', 'Daniel']\n"
     ]
    }
   ],
   "source": [
    "print(friends_list)"
   ]
  },
  {
   "cell_type": "markdown",
   "id": "6a9f875a-5fc9-4bde-be57-3ba9b0d4f1d5",
   "metadata": {},
   "source": [
    "If you want to add some data to an list, you will use `list.append(new_data)`. So, to add `\"Otto\"` to your `friends_list`, you can run the following code:"
   ]
  },
  {
   "cell_type": "code",
   "execution_count": 17,
   "id": "c2c816b9-f7c7-4f0b-a3e2-8fdf3d2e31f7",
   "metadata": {
    "height": 47
   },
   "outputs": [],
   "source": [
    "# add single element to list\n",
    "friends_list.append(\"Otto\")"
   ]
  },
  {
   "cell_type": "code",
   "execution_count": 20,
   "id": "5ed4248d-367d-4432-873d-229f084ca42c",
   "metadata": {
    "height": 30
   },
   "outputs": [
    {
     "name": "stdout",
     "output_type": "stream",
     "text": [
      "['Tommy', 'Isabel', 'Daniel', 'Otto', 'Yvonne']\n"
     ]
    }
   ],
   "source": [
    "print(friends_list)"
   ]
  },
  {
   "cell_type": "markdown",
   "id": "b6c04751",
   "metadata": {},
   "source": [
    "Try for yourself - modify code to add another friend, or yourself"
   ]
  },
  {
   "cell_type": "code",
   "execution_count": 19,
   "id": "ed18d3a1",
   "metadata": {
    "height": 62
   },
   "outputs": [],
   "source": [
    "# Modify the code below to add another friend:\n",
    "friends_list.append(\"Yvonne\")"
   ]
  },
  {
   "cell_type": "markdown",
   "id": "1b22945c-42b3-4ed5-aa1c-bc64c6845897",
   "metadata": {},
   "source": [
    "## Deleting elements"
   ]
  },
  {
   "cell_type": "markdown",
   "id": "91c62ca8",
   "metadata": {},
   "source": [
    "Tommy moved to Bora Bora, so we can't be friends anymore. Let's remove Tommy from `friends_list` by using `.remove()`:"
   ]
  },
  {
   "cell_type": "code",
   "execution_count": 21,
   "id": "999f5ce1-a7d0-4f17-a3de-b09eb524b130",
   "metadata": {
    "height": 47
   },
   "outputs": [],
   "source": [
    "#using remove\n",
    "friends_list.remove(\"Tommy\")"
   ]
  },
  {
   "cell_type": "code",
   "execution_count": 22,
   "id": "8b8fdd0f-709b-4076-ba2c-a5bb767dfa21",
   "metadata": {
    "height": 30
   },
   "outputs": [
    {
     "name": "stdout",
     "output_type": "stream",
     "text": [
      "['Isabel', 'Daniel', 'Otto', 'Yvonne']\n"
     ]
    }
   ],
   "source": [
    "print(friends_list)"
   ]
  },
  {
   "cell_type": "markdown",
   "id": "e8eca359-4e2d-4f2e-8a3e-29a706cd5097",
   "metadata": {},
   "source": [
    "## Lists with other data types\n",
    "\n",
    "Lists can hold any type of data. For instance, here is a list of numbers"
   ]
  },
  {
   "cell_type": "code",
   "execution_count": 23,
   "id": "8b884de4",
   "metadata": {
    "height": 30
   },
   "outputs": [],
   "source": [
    "list_ages = [42, 28, 30]"
   ]
  },
  {
   "cell_type": "code",
   "execution_count": 24,
   "id": "53d6be61-0b24-4c3a-84c8-fd800296c2bb",
   "metadata": {
    "height": 30
   },
   "outputs": [
    {
     "name": "stdout",
     "output_type": "stream",
     "text": [
      "[42, 28, 30]\n"
     ]
    }
   ],
   "source": [
    "print(list_ages)"
   ]
  },
  {
   "cell_type": "markdown",
   "id": "3fe09e1c",
   "metadata": {},
   "source": [
    "Lists can also hold long strings. Here's a list of tasks that might make up a todo list"
   ]
  },
  {
   "cell_type": "code",
   "execution_count": 25,
   "id": "b3eded47-a74d-4f79-938b-f1580753a706",
   "metadata": {
    "height": 130
   },
   "outputs": [],
   "source": [
    "#list of tasks in priority order. Multi-line lists are allowed in python!\n",
    "list_of_tasks = [\n",
    "    \"Compose a brief email to my boss explaining that I will be late for tomorrow's meeting.\",\n",
    "    \"Write a birthday poem for Otto, celebrating his 28th birthday.\",\n",
    "    \"Write a 300-word review of the movie 'The Arrival'.\"\n",
    "]"
   ]
  },
  {
   "cell_type": "markdown",
   "id": "62c4c86c",
   "metadata": {},
   "source": [
    "If you were wondering how to use lists with AI, take this example. Each element in the previous list is a string that you can pass to `print_llm_response()`. If you want an LLM to do each of these tasks for you, here's what you would do:\n",
    "\n",
    "Set a variable called `task` to each element in the list in turn, then pass it to `print_llm_response()`."
   ]
  },
  {
   "cell_type": "code",
   "execution_count": 26,
   "id": "642ab497-32dd-45b9-996b-e06861b2b7dc",
   "metadata": {
    "height": 47
   },
   "outputs": [
    {
     "name": "stdout",
     "output_type": "stream",
     "text": [
      "____________________________________________________________________________________________________\n",
      "Subject: Running Late for Tomorrow's Meeting\n",
      "\n",
      "Hi [Boss's Name],\n",
      "\n",
      "I wanted to let you know that I will be running a few minutes late for tomorrow's meeting due to an unexpected appointment. I apologize for any inconvenience this may cause and will join the meeting as soon as I can.\n",
      "\n",
      "Thank you for your understanding.\n",
      "\n",
      "Best regards,\n",
      "[Your Name]\n",
      "____________________________________________________________________________________________________\n",
      "\n",
      "\n"
     ]
    }
   ],
   "source": [
    "task = list_of_tasks[0]\n",
    "print_llm_response(task)"
   ]
  },
  {
   "cell_type": "code",
   "execution_count": 27,
   "id": "d5040f08-d01a-4b7f-acd0-70a9bfffe805",
   "metadata": {
    "height": 47
   },
   "outputs": [
    {
     "name": "stdout",
     "output_type": "stream",
     "text": [
      "____________________________________________________________________________________________________\n",
      "Happy 28th birthday, Otto dear,\n",
      "Another year to hold so near.\n",
      "May joy and laughter fill your day,\n",
      "And blessings come in every way.\n",
      "\n",
      "With each new year, you shine so bright,\n",
      "Your future's looking just as right.\n",
      "So celebrate with all your might,\n",
      "And make this day a pure delight.\n",
      "\n",
      "Cheers to you, Otto, on this special date,\n",
      "May your year ahead be truly great.\n",
      "____________________________________________________________________________________________________\n",
      "\n",
      "\n"
     ]
    }
   ],
   "source": [
    "task = list_of_tasks[1]\n",
    "print_llm_response(task)"
   ]
  },
  {
   "cell_type": "code",
   "execution_count": 29,
   "id": "2085c168-21ee-4675-b10e-082945b80af4",
   "metadata": {
    "height": 47
   },
   "outputs": [
    {
     "name": "stdout",
     "output_type": "stream",
     "text": [
      "____________________________________________________________________________________________________\n",
      "\"The Arrival\" is a captivating science fiction film that delves into the complexities of communication and the consequences of human actions. Directed by Denis Villeneuve, the movie follows linguist Louise Banks, played brilliantly by Amy Adams, as she is tasked with deciphering the language of extraterrestrial visitors who have arrived on Earth.\n",
      "\n",
      "The film's slow-burning tension and thought-provoking narrative keep viewers engaged from start to finish. Villeneuve's masterful direction creates a sense of unease and wonder, drawing audiences into the mysterious world of the aliens and the high-stakes diplomatic efforts to understand their intentions.\n",
      "\n",
      "Amy Adams delivers a standout performance as Louise Banks, capturing the character's intelligence, vulnerability, and determination with nuance and depth. Her emotional journey as she grapples with personal loss and the weight of her monumental task adds a poignant layer to the film.\n",
      "\n",
      "The visual effects in \"The Arrival\" are stunning, creating a sense of awe and otherworldliness that enhances the story's sense of wonder and danger. The alien spacecraft and their intricate language are beautifully realized, adding to the film's immersive atmosphere.\n",
      "\n",
      "The film's exploration of themes such as communication, time, and the nature of humanity elevates it beyond a typical sci-fi thriller. It challenges viewers to consider the implications of our actions and the power of language to shape our understanding of the world.\n",
      "\n",
      "In conclusion, \"The Arrival\" is a thought-provoking and visually stunning film that offers a fresh take on the alien invasion genre. With its strong performances, compelling story, and striking visuals, it is a must-see for fans of intelligent science fiction cinema.\n",
      "____________________________________________________________________________________________________\n",
      "\n",
      "\n"
     ]
    }
   ],
   "source": [
    "task = list_of_tasks[2]\n",
    "print_llm_response(task)"
   ]
  },
  {
   "cell_type": "markdown",
   "id": "dcac3fe6",
   "metadata": {},
   "source": [
    "You worked through all the elements in the list, but there is still a lot of repetition here. You had to specify each element separately. There is actually a much better way to do this using something called a for loop. Let's go to the next video to see it in action.\n"
   ]
  },
  {
   "cell_type": "markdown",
   "id": "ba8d2d3b-8745-4d96-b175-08cffdc856a4",
   "metadata": {},
   "source": [
    "## Extra practice"
   ]
  },
  {
   "cell_type": "markdown",
   "id": "558ae3a6-972f-45a2-bfc3-7dbbda7f1c7b",
   "metadata": {},
   "source": [
    "Please go through the exercises in the cells below if you want some extra practice for the topics you covered in this lesson."
   ]
  },
  {
   "cell_type": "code",
   "execution_count": 30,
   "id": "a52ac3fe-7e72-44c4-9556-8f872ec6bf73",
   "metadata": {
    "height": 147
   },
   "outputs": [
    {
     "name": "stdout",
     "output_type": "stream",
     "text": [
      "('transformers', 'iron man', 'batman', 'notebook', 'fightclub')\n"
     ]
    }
   ],
   "source": [
    "# Create a list with the titles \n",
    "# of five of your favorite movies\n",
    "\n",
    "### WRITE CODE HERE ###\n",
    "movie_list = \"transformers\", \"iron man\", \"batman\", \"notebook\", \"fightclub\"\n",
    "### --------------- ###\n",
    "print(movie_list)"
   ]
  },
  {
   "cell_type": "code",
   "execution_count": 35,
   "id": "a2f8afeb-ee8e-46f9-ad39-751a1ab9fdf3",
   "metadata": {
    "height": 149
   },
   "outputs": [
    {
     "name": "stdout",
     "output_type": "stream",
     "text": [
      "11\n"
     ]
    }
   ],
   "source": [
    "# Display the fourth element of \n",
    "# the following list using print()\n",
    "\n",
    "prime_numbers = [2, 3, 5, 7, 11]\n",
    "\n",
    "### WRITE CODE HERE ###\n",
    "print(prime_numbers[4])\n",
    "### --------------- ###"
   ]
  },
  {
   "cell_type": "code",
   "execution_count": 36,
   "id": "ca358297-651e-4ad7-912f-921af007ef01",
   "metadata": {
    "height": 147
   },
   "outputs": [
    {
     "name": "stdout",
     "output_type": "stream",
     "text": [
      "7\n"
     ]
    }
   ],
   "source": [
    "# Fix the bug in the following code\n",
    "\n",
    "prime_numbers = [2, 3, 5, 7, 11]\n",
    "\n",
    "### FIX THIS CODE ###\n",
    "print(prime_numbers[3]) #access and print() the fourth element\n",
    "### --------------- ###"
   ]
  },
  {
   "cell_type": "code",
   "execution_count": 39,
   "id": "a823e76b-18b1-45d9-a678-1aa481d17496",
   "metadata": {
    "height": 181
   },
   "outputs": [
    {
     "name": "stdout",
     "output_type": "stream",
     "text": [
      "['Tommy', 'Isabel', 'Daniel', 'Otto', 'Yvonne']\n"
     ]
    }
   ],
   "source": [
    "# Add one name to friends_list using append\n",
    "\n",
    "friends_list = [\"Tommy\", \"Isabel\", \"Daniel\", \"Otto\"]\n",
    "\n",
    "### WRITE CODE HERE ###\n",
    "friends_list.append(\"Yvonne\")\n",
    "### --------------- ###\n",
    "\n",
    "print(friends_list)"
   ]
  },
  {
   "cell_type": "code",
   "execution_count": 40,
   "id": "bae37d2d-3736-410b-983b-2e40fe5b1302",
   "metadata": {
    "height": 232
   },
   "outputs": [
    {
     "name": "stdout",
     "output_type": "stream",
     "text": [
      "['Colombia', 'Peru', 'Brasil', 'Argentina']\n"
     ]
    }
   ],
   "source": [
    "# In the following code, remove the country \n",
    "# that is not in South America\n",
    "\n",
    "countries_in_south_america = [\"Colombia\", \"Peru\", \n",
    "                              \"Brasil\", \"Japan\",\n",
    "                              \"Argentina\"]\n",
    "\n",
    "### WRITE CODE HERE ###\n",
    "countries_in_south_america.remove(\"Japan\")\n",
    "### --------------- ###\n",
    "\n",
    "print(countries_in_south_america)"
   ]
  }
 ],
 "metadata": {
  "kernelspec": {
   "display_name": "Python 3 (ipykernel)",
   "language": "python",
   "name": "python3"
  },
  "language_info": {
   "codemirror_mode": {
    "name": "ipython",
    "version": 3
   },
   "file_extension": ".py",
   "mimetype": "text/x-python",
   "name": "python",
   "nbconvert_exporter": "python",
   "pygments_lexer": "ipython3",
   "version": "3.9.19"
  }
 },
 "nbformat": 4,
 "nbformat_minor": 5
}
