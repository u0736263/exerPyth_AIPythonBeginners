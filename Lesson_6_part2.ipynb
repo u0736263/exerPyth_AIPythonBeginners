{
 "cells": [
  {
   "cell_type": "markdown",
   "id": "c37dfb58-902b-44dd-a56b-11d6afee457a",
   "metadata": {},
   "source": [
    "# Lesson 6 - Helping AI make decisions"
   ]
  },
  {
   "cell_type": "markdown",
   "id": "acc85383-e456-40d7-8b09-79bd91da0eed",
   "metadata": {},
   "source": [
    "In this lesson you will see how booleans can be used to create sophisticated programs with branching decisions."
   ]
  },
  {
   "cell_type": "code",
   "execution_count": 27,
   "id": "09291854-2c07-4c09-8378-d825734df7c6",
   "metadata": {
    "height": 30
   },
   "outputs": [],
   "source": [
    "from helper_functions import print_llm_response"
   ]
  },
  {
   "cell_type": "markdown",
   "id": "3b5f7010-989e-4fc2-87be-ac437ce70df7",
   "metadata": {},
   "source": [
    "## Performing tasks depending on their time to completion"
   ]
  },
  {
   "cell_type": "markdown",
   "id": "9d8faf4e-714e-492d-a3ef-c45a5fd02460",
   "metadata": {},
   "source": [
    "Let's say that you have a task list with tasks that LLMs could assist you with. Each element in that list is a dictionary with two keys: the `description` for the task and the `time_to_complete` after the LLM's first pass."
   ]
  },
  {
   "cell_type": "code",
   "execution_count": 28,
   "id": "224d7983-2e71-40e9-af21-92b9433c34c5",
   "metadata": {
    "height": 334
   },
   "outputs": [],
   "source": [
    "task_list = [\n",
    "    {\n",
    "        \"description\": \"Compose a brief email to my boss explaining that I will be late for next week's meeting.\",\n",
    "        \"time_to_complete\": 3\n",
    "    },\n",
    "    {\n",
    "        \"description\": \"Create an outline for a presentation on the benefits of remote work.\",\n",
    "        \"time_to_complete\": 60\n",
    "    },\n",
    "    {\n",
    "        \"description\": \"Write a 300-word review of the movie 'The Arrival'.\",\n",
    "        \"time_to_complete\": 30\n",
    "    },\n",
    "    {\n",
    "        \"description\": \"Create a shopping list for tofu and olive stir fry.\",\n",
    "        \"time_to_complete\": 5\n",
    "    }\n",
    "]"
   ]
  },
  {
   "cell_type": "markdown",
   "id": "e4326c98-b881-43aa-8c9a-c3dce0aa8312",
   "metadata": {},
   "source": [
    "So, if you access the first element, you will get the following dictionary:"
   ]
  },
  {
   "cell_type": "code",
   "execution_count": 29,
   "id": "033a9da9-5d47-41e5-9366-eb396afdf87a",
   "metadata": {
    "height": 47
   },
   "outputs": [
    {
     "name": "stdout",
     "output_type": "stream",
     "text": [
      "{'description': \"Compose a brief email to my boss explaining that I will be late for next week's meeting.\", 'time_to_complete': 3}\n"
     ]
    }
   ],
   "source": [
    "task = task_list[0]\n",
    "print(task)"
   ]
  },
  {
   "cell_type": "markdown",
   "id": "f222c387-f959-4f24-98ac-8dabad18792c",
   "metadata": {},
   "source": [
    "Now, let's check whether the first task takes at most 5 minutes to complete after the LLM's first pass."
   ]
  },
  {
   "cell_type": "code",
   "execution_count": 30,
   "id": "3e4d5838-e14a-4f10-8492-4b0f45491600",
   "metadata": {
    "height": 30
   },
   "outputs": [
    {
     "data": {
      "text/plain": [
       "True"
      ]
     },
     "execution_count": 30,
     "metadata": {},
     "output_type": "execute_result"
    }
   ],
   "source": [
    "task[\"time_to_complete\"] <= 5 "
   ]
  },
  {
   "cell_type": "markdown",
   "id": "80a9bb09-1f08-48f0-94ae-ec81997fac3f",
   "metadata": {},
   "source": [
    "To complete a task that requires 5 minutes or less after the LLM's first pass, you can use an `if` statement like the one below:"
   ]
  },
  {
   "cell_type": "code",
   "execution_count": 31,
   "id": "48f46f36-1ddc-4add-850a-db1146ea255a",
   "metadata": {
    "height": 64
   },
   "outputs": [
    {
     "name": "stdout",
     "output_type": "stream",
     "text": [
      "____________________________________________________________________________________________________\n",
      "Subject: Running Late for Next Week's Meeting\n",
      "\n",
      "Hi [Boss's Name],\n",
      "\n",
      "I wanted to let you know that I will be running late for next week's meeting. I apologize for any inconvenience this may cause. Please let me know if there is anything I can do to prepare in advance.\n",
      "\n",
      "Thank you for your understanding.\n",
      "\n",
      "Best,\n",
      "[Your Name]\n",
      "____________________________________________________________________________________________________\n",
      "\n",
      "\n"
     ]
    }
   ],
   "source": [
    "if task[\"time_to_complete\"] <= 5:\n",
    "    task_to_do = task[\"description\"]\n",
    "    print_llm_response(task_to_do)"
   ]
  },
  {
   "cell_type": "markdown",
   "id": "94757062-3a0b-4988-bb33-147762c11d97",
   "metadata": {},
   "source": [
    "Let's see what would happen if you execute that same code for the second task:"
   ]
  },
  {
   "cell_type": "code",
   "execution_count": 32,
   "id": "f868908d-2a8b-498f-954d-11e058694913",
   "metadata": {
    "height": 81
   },
   "outputs": [],
   "source": [
    "task = task_list[1]\n",
    "if task[\"time_to_complete\"] <= 5:\n",
    "    task_to_do = task[\"description\"]\n",
    "    print_llm_response(task_to_do)"
   ]
  },
  {
   "cell_type": "code",
   "execution_count": 33,
   "id": "3e71c360-2aba-4fc8-9afe-6acedef33b57",
   "metadata": {
    "height": 30
   },
   "outputs": [
    {
     "data": {
      "text/plain": [
       "False"
      ]
     },
     "execution_count": 33,
     "metadata": {},
     "output_type": "execute_result"
    }
   ],
   "source": [
    "task[\"time_to_complete\"] <= 5"
   ]
  },
  {
   "cell_type": "markdown",
   "id": "ce67bfcc-bf70-4678-bc5f-fc70713aeb2f",
   "metadata": {},
   "source": [
    "And for the third and fourth tasks:"
   ]
  },
  {
   "cell_type": "code",
   "execution_count": 34,
   "id": "6d2d541f-be6c-43ac-8ce9-8088d6ac82fb",
   "metadata": {
    "height": 81
   },
   "outputs": [],
   "source": [
    "task = task_list[2]\n",
    "if task[\"time_to_complete\"] <= 5:\n",
    "    task_to_do = task[\"description\"]\n",
    "    print_llm_response(task_to_do)"
   ]
  },
  {
   "cell_type": "code",
   "execution_count": 35,
   "id": "ee1a2257-e87a-4c01-91c0-649765cf3144",
   "metadata": {
    "height": 81
   },
   "outputs": [
    {
     "name": "stdout",
     "output_type": "stream",
     "text": [
      "____________________________________________________________________________________________________\n",
      "1. Tofu\n",
      "2. Olives\n",
      "3. Vegetables (such as bell peppers, broccoli, and carrots)\n",
      "4. Soy sauce\n",
      "5. Olive oil\n",
      "6. Garlic\n",
      "7. Ginger\n",
      "8. Cornstarch\n",
      "9. Rice (for serving)\n",
      "10. Optional: sesame seeds or green onions for garnish\n",
      "____________________________________________________________________________________________________\n",
      "\n",
      "\n"
     ]
    }
   ],
   "source": [
    "task = task_list[3]\n",
    "if task[\"time_to_complete\"] <= 5:\n",
    "    task_to_do = task[\"description\"]\n",
    "    print_llm_response(task_to_do)"
   ]
  },
  {
   "cell_type": "markdown",
   "id": "629e34bd-f02b-4163-b826-4626215f55f3",
   "metadata": {},
   "source": [
    "## Looping through the task list"
   ]
  },
  {
   "cell_type": "markdown",
   "id": "9bbb1658-819b-4f72-a90c-6d99643e6e20",
   "metadata": {},
   "source": [
    "There is a more efficient way to avoid repeating the same code over and over again for different elements in a list. You have used the `for` loop in previous lessons. Here, you will use it to iterate through all the tasks, check if they take 5 minutes or less to complete, and ask the LLM to do a first pass at them if that's the case."
   ]
  },
  {
   "cell_type": "code",
   "execution_count": 36,
   "id": "af2044cb-6cc4-4ad7-aa70-a447641c5f63",
   "metadata": {
    "height": 81
   },
   "outputs": [
    {
     "name": "stdout",
     "output_type": "stream",
     "text": [
      "____________________________________________________________________________________________________\n",
      "Subject: Late Arrival for Next Week's Meeting\n",
      "\n",
      "Hi [Boss's Name],\n",
      "\n",
      "I wanted to inform you that I will be arriving late for next week's meeting due to a prior commitment. I apologize for any inconvenience this may cause and will make sure to catch up on any missed information upon my arrival.\n",
      "\n",
      "Thank you for your understanding.\n",
      "\n",
      "Best regards,\n",
      "[Your Name]\n",
      "____________________________________________________________________________________________________\n",
      "\n",
      "\n",
      "____________________________________________________________________________________________________\n",
      "1. Tofu\n",
      "2. Olive oil\n",
      "3. Soy sauce\n",
      "4. Garlic\n",
      "5. Ginger\n",
      "6. Bell peppers\n",
      "7. Broccoli\n",
      "8. Carrots\n",
      "9. Green onions\n",
      "10. Rice\n",
      "____________________________________________________________________________________________________\n",
      "\n",
      "\n"
     ]
    }
   ],
   "source": [
    "for task in task_list:\n",
    "    if task[\"time_to_complete\"] <= 5:\n",
    "        task_to_do = task[\"description\"]\n",
    "        print_llm_response(task_to_do)        "
   ]
  },
  {
   "cell_type": "markdown",
   "id": "77194b60-9e68-461a-a920-eb84d268bd87",
   "metadata": {},
   "source": [
    "## `if`-`else` blocks"
   ]
  },
  {
   "cell_type": "markdown",
   "id": "8f276ad1-48d1-4211-b509-20ce20ae3a1d",
   "metadata": {},
   "source": [
    "In some cases, you may want to perform another action when the `if` condition is not met. In those cases, you can use `else`. For instance, here Python will let you know that some of the tasks were not completed and will provide you with the `time_to_complete` information for those tasks."
   ]
  },
  {
   "cell_type": "code",
   "execution_count": 37,
   "id": "a403c715-e321-446c-9fd9-ee5db1c28b05",
   "metadata": {
    "height": 147
   },
   "outputs": [
    {
     "name": "stdout",
     "output_type": "stream",
     "text": [
      "____________________________________________________________________________________________________\n",
      "Subject: Late Arrival for Next Week's Meeting\n",
      "\n",
      "Hi [Boss's Name],\n",
      "\n",
      "I wanted to inform you that I will be arriving late for next week's meeting due to a prior commitment. I apologize for any inconvenience this may cause and will make sure to catch up on any missed information promptly upon my arrival.\n",
      "\n",
      "Thank you for your understanding.\n",
      "\n",
      "Best regards,\n",
      "[Your Name]\n",
      "____________________________________________________________________________________________________\n",
      "\n",
      "\n",
      "To complete later: 60 time to complete.\n",
      "To complete later: 30 time to complete.\n",
      "____________________________________________________________________________________________________\n",
      "1. Tofu\n",
      "2. Olives\n",
      "3. Stir fry sauce\n",
      "4. Vegetables (such as bell peppers, broccoli, and carrots)\n",
      "5. Rice or noodles (optional)\n",
      "____________________________________________________________________________________________________\n",
      "\n",
      "\n"
     ]
    }
   ],
   "source": [
    "for task in task_list:\n",
    "    if task[\"time_to_complete\"] <= 5:\n",
    "        task_to_do = task[\"description\"]\n",
    "        print_llm_response(task_to_do) \n",
    "    else:\n",
    "        task_to_do = task [\"description\"]\n",
    "        print(f\"To complete later: {task['time_to_complete']} time to complete.\")        "
   ]
  },
  {
   "cell_type": "markdown",
   "id": "425e5bb2-c90e-42b0-a046-8b760ea007b7",
   "metadata": {},
   "source": [
    "## Saving tasks for later using lists"
   ]
  },
  {
   "cell_type": "markdown",
   "id": "04030334-2cdf-4164-967d-4d2af593c3d9",
   "metadata": {},
   "source": [
    "After you executed the previous cell, you saw that some of the tasks were not completed and their time to completion. However, it is better practice to save all the information from those tasks using a new list. Here, you will again use the coding paradigm where you initialize an empty list to save information (the tasks to complete later) using `.append()`."
   ]
  },
  {
   "cell_type": "code",
   "execution_count": 38,
   "id": "20751a1a-e73e-4ded-98a5-48c341debae5",
   "metadata": {
    "height": 149
   },
   "outputs": [
    {
     "name": "stdout",
     "output_type": "stream",
     "text": [
      "____________________________________________________________________________________________________\n",
      "Subject: Running Late for Next Week's Meeting\n",
      "\n",
      "Hi [Boss's Name],\n",
      "\n",
      "I wanted to let you know that I will be running late for next week's meeting. I apologize for any inconvenience this may cause. Please let me know if there is anything I can do to prepare in advance.\n",
      "\n",
      "Thank you for your understanding.\n",
      "\n",
      "Best,\n",
      "[Your Name]\n",
      "____________________________________________________________________________________________________\n",
      "\n",
      "\n",
      "____________________________________________________________________________________________________\n",
      "1. Tofu\n",
      "2. Olives\n",
      "3. Stir fry vegetables (e.g. bell peppers, broccoli, carrots)\n",
      "4. Soy sauce\n",
      "5. Olive oil\n",
      "6. Garlic\n",
      "7. Ginger\n",
      "8. Cornstarch\n",
      "9. Rice or noodles (optional, for serving)\n",
      "____________________________________________________________________________________________________\n",
      "\n",
      "\n"
     ]
    }
   ],
   "source": [
    "tasks_for_later = []\n",
    "\n",
    "for task in task_list:\n",
    "    if task[\"time_to_complete\"] <= 5:\n",
    "        task_to_do = task[\"description\"]\n",
    "        print_llm_response(task_to_do)\n",
    "    else:\n",
    "        tasks_for_later.append(task)"
   ]
  },
  {
   "cell_type": "code",
   "execution_count": 39,
   "id": "f5969c9f-57ac-4146-839b-226ce092387a",
   "metadata": {
    "height": 30
   },
   "outputs": [
    {
     "name": "stdout",
     "output_type": "stream",
     "text": [
      "[{'description': 'Create an outline for a presentation on the benefits of remote work.', 'time_to_complete': 60}, {'description': \"Write a 300-word review of the movie 'The Arrival'.\", 'time_to_complete': 30}]\n"
     ]
    }
   ],
   "source": [
    "print(tasks_for_later)"
   ]
  },
  {
   "cell_type": "markdown",
   "id": "9d616998-e210-4d8b-8928-a9776856f518",
   "metadata": {},
   "source": [
    "Congratulations 🎉🎉🎉, you are very close to completing this course. In the next lesson, you will go through a quick demo about working with files."
   ]
  },
  {
   "cell_type": "markdown",
   "id": "3b4a0ab3-f01a-4fe4-9a50-5f985972b51f",
   "metadata": {},
   "source": [
    "## Extra practice"
   ]
  },
  {
   "cell_type": "markdown",
   "id": "ecbfea5c-678a-4a50-9843-a8a939098c18",
   "metadata": {},
   "source": [
    "Please go through the exercises in the cells below if you want some extra practice for the topics you covered in this lesson."
   ]
  },
  {
   "cell_type": "code",
   "execution_count": 45,
   "id": "f625ce01-fca2-4754-9503-2c33020524be",
   "metadata": {
    "height": 183
   },
   "outputs": [
    {
     "name": "stdout",
     "output_type": "stream",
     "text": [
      "____________________________________________________________________________________________________\n",
      "\"The Arrival\" is a captivating science fiction film that delves into the complexities of communication and the consequences of human actions. Directed by Denis Villeneuve, the movie follows linguistics professor Louise Banks, played brilliantly by Amy Adams, as she is tasked with deciphering the language of extraterrestrial visitors who have arrived on Earth.\n",
      "\n",
      "The film's slow-burning tension and thought-provoking narrative keep viewers engaged from start to finish. Villeneuve's masterful direction creates a sense of unease and wonder, drawing audiences into the mysterious world of the aliens and the high-stakes diplomatic efforts to understand their intentions.\n",
      "\n",
      "Amy Adams delivers a standout performance, portraying a nuanced and intelligent protagonist who must navigate personal grief while grappling with the monumental task of decoding an alien language. Her emotional journey adds depth to the film, grounding its fantastical elements in a relatable human experience.\n",
      "\n",
      "The visual effects in \"The Arrival\" are stunning, creating a sense of awe and otherworldliness that enhances the film's immersive atmosphere. The design of the alien spacecraft and the intricate symbols of their language are particularly striking, adding to the film's sense of mystery and intrigue.\n",
      "\n",
      "The film's exploration of themes such as communication, time, and the nature of humanity elevates it beyond typical sci-fi fare, offering a profound and thought-provoking viewing experience. \"The Arrival\" is a testament to the power of storytelling and the importance of empathy and understanding in a world fraught with division and conflict.\n",
      "\n",
      "In conclusion, \"The Arrival\" is a must-see film for fans of science fiction and thought-provoking cinema. With its stellar performances, stunning visuals, and compelling narrative, it is a standout entry in the genre that will leave a lasting impact on viewers.\n",
      "____________________________________________________________________________________________________\n",
      "\n",
      "\n"
     ]
    }
   ],
   "source": [
    "# Modify this code to complete the task \n",
    "# if it takes more than 15 minutes\n",
    "\n",
    "task = task_list[2]\n",
    "\n",
    "### EDIT THE FOLLOWING CODE ###\n",
    "if task[\"time_to_complete\"] > 15: #Modify this line\n",
    "    task_to_do = task[\"description\"]\n",
    "    print_llm_response(task_to_do)\n",
    "### --------------- ###"
   ]
  },
  {
   "cell_type": "code",
   "execution_count": 46,
   "id": "42a8fb32-b7f9-4dbb-be2b-0eaa790a0e0f",
   "metadata": {
    "height": 336
   },
   "outputs": [
    {
     "name": "stdout",
     "output_type": "stream",
     "text": [
      "The list of flavors contains Chocolate, Andrew's favorite.\n"
     ]
    }
   ],
   "source": [
    "# Fix the code here by only using indentation.\n",
    "# It should print a message if the \"Chocolate\" ice cream flavor \n",
    "# is located in the ice_cream_flavors list.\n",
    "\n",
    "ice_cream_flavors = [\n",
    "    \"Vanilla\", \"Strawberry\", \"Mint Chocolate Chip\",\n",
    "    \"Cookies and Cream\", \"Rocky Road\", \"Butter Pecan\",\n",
    "    \"Pistachio\", \"Salted Caramel\", \"Chocolate\",\n",
    "    \"Mango\"\n",
    "]\n",
    "\n",
    "### EDIT THE FOLLOWING CODE ### \n",
    "#Hint: Recall that the code within for loops \n",
    "# and if statements is indented. The convention\n",
    "# in Python is to add four spaces for indented code.\n",
    "for flavor in ice_cream_flavors:\n",
    "    if flavor == \"Chocolate\":\n",
    "        print(f\"The list of flavors contains {flavor}, Andrew's favorite.\")\n",
    "### --------------- ###"
   ]
  },
  {
   "cell_type": "code",
   "execution_count": 47,
   "id": "fe5406ef-5da6-41d3-993a-764ef3e6dff9",
   "metadata": {
    "height": 251
   },
   "outputs": [
    {
     "name": "stdout",
     "output_type": "stream",
     "text": [
      "____________________________________________________________________________________________________\n",
      "Subject: Late Arrival for Next Week's Meeting\n",
      "\n",
      "Hi [Boss's Name],\n",
      "\n",
      "I wanted to inform you that I will be arriving late to next week's meeting due to a prior commitment. I apologize for any inconvenience this may cause and will make sure to catch up on any missed information promptly upon my arrival.\n",
      "\n",
      "Thank you for your understanding.\n",
      "\n",
      "Best regards,\n",
      "[Your Name]\n",
      "____________________________________________________________________________________________________\n",
      "\n",
      "\n",
      "To complete later:60 time to complete\n",
      "To complete later:30 time to complete\n",
      "____________________________________________________________________________________________________\n",
      "1. Tofu\n",
      "2. Olives\n",
      "3. Vegetables (such as bell peppers, broccoli, and carrots)\n",
      "4. Soy sauce\n",
      "5. Olive oil\n",
      "6. Garlic\n",
      "7. Ginger\n",
      "8. Cornstarch\n",
      "9. Rice (for serving)\n",
      "10. Optional: sesame seeds or green onions for garnish\n",
      "____________________________________________________________________________________________________\n",
      "\n",
      "\n"
     ]
    }
   ],
   "source": [
    "# Add variables to the f-string to provide the\n",
    "# task description as well as the time to complete \n",
    "# for the tasks that are left for later.\n",
    "\n",
    "for task in task_list:\n",
    "    if task[\"time_to_complete\"] <= 5:\n",
    "        task_to_do = task[\"description\"]\n",
    "        print_llm_response(task_to_do) \n",
    "    else:\n",
    "        ### EDIT THE FOLLOWING CODE ###\n",
    "        # Hint: To add a variable in an f-string\n",
    "        # you need to use the following syntax: {variable_name}. \n",
    "       \n",
    "        print(f\"To complete later:{task['time_to_complete']} time to complete\") \n",
    "        ### ---------------  ###"
   ]
  }
 ],
 "metadata": {
  "kernelspec": {
   "display_name": "Python 3 (ipykernel)",
   "language": "python",
   "name": "python3"
  },
  "language_info": {
   "codemirror_mode": {
    "name": "ipython",
    "version": 3
   },
   "file_extension": ".py",
   "mimetype": "text/x-python",
   "name": "python",
   "nbconvert_exporter": "python",
   "pygments_lexer": "ipython3",
   "version": "3.9.19"
  }
 },
 "nbformat": 4,
 "nbformat_minor": 5
}
